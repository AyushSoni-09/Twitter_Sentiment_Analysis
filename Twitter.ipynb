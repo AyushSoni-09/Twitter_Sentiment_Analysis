{
 "cells": [
  {
   "cell_type": "code",
   "execution_count": 1,
   "id": "dc58f1e9",
   "metadata": {},
   "outputs": [],
   "source": [
    "import warnings\n",
    "warnings.filterwarnings(\"ignore\")"
   ]
  },
  {
   "cell_type": "code",
   "execution_count": 2,
   "id": "bb0e0292",
   "metadata": {},
   "outputs": [
    {
     "data": {
      "text/html": [
       "<div>\n",
       "<style scoped>\n",
       "    .dataframe tbody tr th:only-of-type {\n",
       "        vertical-align: middle;\n",
       "    }\n",
       "\n",
       "    .dataframe tbody tr th {\n",
       "        vertical-align: top;\n",
       "    }\n",
       "\n",
       "    .dataframe thead th {\n",
       "        text-align: right;\n",
       "    }\n",
       "</style>\n",
       "<table border=\"1\" class=\"dataframe\">\n",
       "  <thead>\n",
       "    <tr style=\"text-align: right;\">\n",
       "      <th></th>\n",
       "      <th>sentiment</th>\n",
       "      <th>text</th>\n",
       "    </tr>\n",
       "  </thead>\n",
       "  <tbody>\n",
       "    <tr>\n",
       "      <th>0</th>\n",
       "      <td>Positive</td>\n",
       "      <td>im getting on borderlands and i will murder yo...</td>\n",
       "    </tr>\n",
       "    <tr>\n",
       "      <th>1</th>\n",
       "      <td>Positive</td>\n",
       "      <td>I am coming to the borders and I will kill you...</td>\n",
       "    </tr>\n",
       "    <tr>\n",
       "      <th>2</th>\n",
       "      <td>Positive</td>\n",
       "      <td>im getting on borderlands and i will kill you ...</td>\n",
       "    </tr>\n",
       "    <tr>\n",
       "      <th>3</th>\n",
       "      <td>Positive</td>\n",
       "      <td>im coming on borderlands and i will murder you...</td>\n",
       "    </tr>\n",
       "    <tr>\n",
       "      <th>4</th>\n",
       "      <td>Positive</td>\n",
       "      <td>im getting on borderlands 2 and i will murder ...</td>\n",
       "    </tr>\n",
       "  </tbody>\n",
       "</table>\n",
       "</div>"
      ],
      "text/plain": [
       "  sentiment                                               text\n",
       "0  Positive  im getting on borderlands and i will murder yo...\n",
       "1  Positive  I am coming to the borders and I will kill you...\n",
       "2  Positive  im getting on borderlands and i will kill you ...\n",
       "3  Positive  im coming on borderlands and i will murder you...\n",
       "4  Positive  im getting on borderlands 2 and i will murder ..."
      ]
     },
     "execution_count": 2,
     "metadata": {},
     "output_type": "execute_result"
    }
   ],
   "source": [
    "import pandas as pd\n",
    "\n",
    "df= pd.read_csv('twitter_sentiment.csv' , header=None , index_col=0)\n",
    "df = df[[2,3]].reset_index(drop=True)#df.columns = ['sentiment' , 'text']\n",
    "\n",
    "df.columns=['sentiment' , 'text']\n",
    "df.head()"
   ]
  },
  {
   "cell_type": "code",
   "execution_count": 3,
   "id": "51226bbb",
   "metadata": {},
   "outputs": [
    {
     "data": {
      "text/html": [
       "<div>\n",
       "<style scoped>\n",
       "    .dataframe tbody tr th:only-of-type {\n",
       "        vertical-align: middle;\n",
       "    }\n",
       "\n",
       "    .dataframe tbody tr th {\n",
       "        vertical-align: top;\n",
       "    }\n",
       "\n",
       "    .dataframe thead th {\n",
       "        text-align: right;\n",
       "    }\n",
       "</style>\n",
       "<table border=\"1\" class=\"dataframe\">\n",
       "  <thead>\n",
       "    <tr style=\"text-align: right;\">\n",
       "      <th></th>\n",
       "      <th>sentiment</th>\n",
       "      <th>text</th>\n",
       "    </tr>\n",
       "  </thead>\n",
       "  <tbody>\n",
       "    <tr>\n",
       "      <th>43241</th>\n",
       "      <td>Irrelevant</td>\n",
       "      <td>of</td>\n",
       "    </tr>\n",
       "    <tr>\n",
       "      <th>9986</th>\n",
       "      <td>Irrelevant</td>\n",
       "      <td>At the same time, despite the fact that there ...</td>\n",
       "    </tr>\n",
       "    <tr>\n",
       "      <th>33237</th>\n",
       "      <td>Irrelevant</td>\n",
       "      <td>Old fashioned tweet kinda stale had to mix it up</td>\n",
       "    </tr>\n",
       "    <tr>\n",
       "      <th>62978</th>\n",
       "      <td>Neutral</td>\n",
       "      <td>The 10 Best Characters in the GTA V Campaign, ...</td>\n",
       "    </tr>\n",
       "    <tr>\n",
       "      <th>69509</th>\n",
       "      <td>Positive</td>\n",
       "      <td>I watch all signs, neons in</td>\n",
       "    </tr>\n",
       "    <tr>\n",
       "      <th>1201</th>\n",
       "      <td>Positive</td>\n",
       "      <td>Hmmmmmmmm, that could be really good</td>\n",
       "    </tr>\n",
       "    <tr>\n",
       "      <th>52423</th>\n",
       "      <td>Neutral</td>\n",
       "      <td>Of course you can feel the beauty of a landsca...</td>\n",
       "    </tr>\n",
       "    <tr>\n",
       "      <th>48090</th>\n",
       "      <td>Negative</td>\n",
       "      <td>Wait wtf is Home Depot you would never find th...</td>\n",
       "    </tr>\n",
       "    <tr>\n",
       "      <th>26829</th>\n",
       "      <td>Positive</td>\n",
       "      <td>Just so we’re clear:.. Black Ops. Destiny Beyo...</td>\n",
       "    </tr>\n",
       "    <tr>\n",
       "      <th>48428</th>\n",
       "      <td>Negative</td>\n",
       "      <td>I could throw £40m of Home Depot money into Da...</td>\n",
       "    </tr>\n",
       "  </tbody>\n",
       "</table>\n",
       "</div>"
      ],
      "text/plain": [
       "        sentiment                                               text\n",
       "43241  Irrelevant                                                 of\n",
       "9986   Irrelevant  At the same time, despite the fact that there ...\n",
       "33237  Irrelevant   Old fashioned tweet kinda stale had to mix it up\n",
       "62978     Neutral  The 10 Best Characters in the GTA V Campaign, ...\n",
       "69509    Positive                        I watch all signs, neons in\n",
       "1201     Positive               Hmmmmmmmm, that could be really good\n",
       "52423     Neutral  Of course you can feel the beauty of a landsca...\n",
       "48090    Negative  Wait wtf is Home Depot you would never find th...\n",
       "26829    Positive  Just so we’re clear:.. Black Ops. Destiny Beyo...\n",
       "48428    Negative  I could throw £40m of Home Depot money into Da..."
      ]
     },
     "execution_count": 3,
     "metadata": {},
     "output_type": "execute_result"
    }
   ],
   "source": [
    "\n",
    "df.isnull().sum()\n",
    "df.dropna(inplace=True)\n",
    "df['text'].apply(len).value_counts()\n",
    "df.sample(10)\n"
   ]
  },
  {
   "cell_type": "code",
   "execution_count": 4,
   "id": "fa7e1dca",
   "metadata": {},
   "outputs": [],
   "source": [
    "##DATA CLEANING\n",
    "\n",
    "df['text'] = df['text'].apply(lambda x : x.lower())"
   ]
  },
  {
   "cell_type": "code",
   "execution_count": 7,
   "id": "e2300892",
   "metadata": {},
   "outputs": [],
   "source": [
    "#WORD VISUALIZATION \n",
    "\n",
    "from wordcloud import WordCloud , STOPWORDS\n",
    "stopwords = set(STOPWORDS)\n",
    "stopwords_list = list(stopwords)\n"
   ]
  },
  {
   "cell_type": "code",
   "execution_count": 8,
   "id": "6c78cf97",
   "metadata": {},
   "outputs": [],
   "source": [
    "\n",
    "#train test split \n",
    "\n",
    "from sklearn.model_selection import train_test_split\n",
    "X_train , X_test , Y_train , Y_test = train_test_split(df['text'] , df['sentiment'] , test_size = 0.2 , random_state =0)\n",
    "\n"
   ]
  },
  {
   "cell_type": "code",
   "execution_count": 9,
   "id": "623e1bd8",
   "metadata": {},
   "outputs": [
    {
     "data": {
      "text/html": [
       "<style>#sk-container-id-1 {color: black;background-color: white;}#sk-container-id-1 pre{padding: 0;}#sk-container-id-1 div.sk-toggleable {background-color: white;}#sk-container-id-1 label.sk-toggleable__label {cursor: pointer;display: block;width: 100%;margin-bottom: 0;padding: 0.3em;box-sizing: border-box;text-align: center;}#sk-container-id-1 label.sk-toggleable__label-arrow:before {content: \"▸\";float: left;margin-right: 0.25em;color: #696969;}#sk-container-id-1 label.sk-toggleable__label-arrow:hover:before {color: black;}#sk-container-id-1 div.sk-estimator:hover label.sk-toggleable__label-arrow:before {color: black;}#sk-container-id-1 div.sk-toggleable__content {max-height: 0;max-width: 0;overflow: hidden;text-align: left;background-color: #f0f8ff;}#sk-container-id-1 div.sk-toggleable__content pre {margin: 0.2em;color: black;border-radius: 0.25em;background-color: #f0f8ff;}#sk-container-id-1 input.sk-toggleable__control:checked~div.sk-toggleable__content {max-height: 200px;max-width: 100%;overflow: auto;}#sk-container-id-1 input.sk-toggleable__control:checked~label.sk-toggleable__label-arrow:before {content: \"▾\";}#sk-container-id-1 div.sk-estimator input.sk-toggleable__control:checked~label.sk-toggleable__label {background-color: #d4ebff;}#sk-container-id-1 div.sk-label input.sk-toggleable__control:checked~label.sk-toggleable__label {background-color: #d4ebff;}#sk-container-id-1 input.sk-hidden--visually {border: 0;clip: rect(1px 1px 1px 1px);clip: rect(1px, 1px, 1px, 1px);height: 1px;margin: -1px;overflow: hidden;padding: 0;position: absolute;width: 1px;}#sk-container-id-1 div.sk-estimator {font-family: monospace;background-color: #f0f8ff;border: 1px dotted black;border-radius: 0.25em;box-sizing: border-box;margin-bottom: 0.5em;}#sk-container-id-1 div.sk-estimator:hover {background-color: #d4ebff;}#sk-container-id-1 div.sk-parallel-item::after {content: \"\";width: 100%;border-bottom: 1px solid gray;flex-grow: 1;}#sk-container-id-1 div.sk-label:hover label.sk-toggleable__label {background-color: #d4ebff;}#sk-container-id-1 div.sk-serial::before {content: \"\";position: absolute;border-left: 1px solid gray;box-sizing: border-box;top: 0;bottom: 0;left: 50%;z-index: 0;}#sk-container-id-1 div.sk-serial {display: flex;flex-direction: column;align-items: center;background-color: white;padding-right: 0.2em;padding-left: 0.2em;position: relative;}#sk-container-id-1 div.sk-item {position: relative;z-index: 1;}#sk-container-id-1 div.sk-parallel {display: flex;align-items: stretch;justify-content: center;background-color: white;position: relative;}#sk-container-id-1 div.sk-item::before, #sk-container-id-1 div.sk-parallel-item::before {content: \"\";position: absolute;border-left: 1px solid gray;box-sizing: border-box;top: 0;bottom: 0;left: 50%;z-index: -1;}#sk-container-id-1 div.sk-parallel-item {display: flex;flex-direction: column;z-index: 1;position: relative;background-color: white;}#sk-container-id-1 div.sk-parallel-item:first-child::after {align-self: flex-end;width: 50%;}#sk-container-id-1 div.sk-parallel-item:last-child::after {align-self: flex-start;width: 50%;}#sk-container-id-1 div.sk-parallel-item:only-child::after {width: 0;}#sk-container-id-1 div.sk-dashed-wrapped {border: 1px dashed gray;margin: 0 0.4em 0.5em 0.4em;box-sizing: border-box;padding-bottom: 0.4em;background-color: white;}#sk-container-id-1 div.sk-label label {font-family: monospace;font-weight: bold;display: inline-block;line-height: 1.2em;}#sk-container-id-1 div.sk-label-container {text-align: center;}#sk-container-id-1 div.sk-container {/* jupyter's `normalize.less` sets `[hidden] { display: none; }` but bootstrap.min.css set `[hidden] { display: none !important; }` so we also need the `!important` here to be able to override the default hidden behavior on the sphinx rendered scikit-learn.org. See: https://github.com/scikit-learn/scikit-learn/issues/21755 */display: inline-block !important;position: relative;}#sk-container-id-1 div.sk-text-repr-fallback {display: none;}</style><div id=\"sk-container-id-1\" class=\"sk-top-container\"><div class=\"sk-text-repr-fallback\"><pre>Pipeline(steps=[(&#x27;tfid&#x27;,\n",
       "                 TfidfVectorizer(stop_words=[&#x27;about&#x27;, &#x27;further&#x27;, &#x27;where&#x27;,\n",
       "                                             &quot;we&#x27;ll&quot;, &#x27;while&#x27;, &#x27;too&#x27;, &#x27;nor&#x27;,\n",
       "                                             &quot;mustn&#x27;t&quot;, &#x27;their&#x27;, &#x27;do&#x27;,\n",
       "                                             &quot;they&#x27;ve&quot;, &#x27;after&#x27;, &quot;won&#x27;t&quot;, &quot;i&#x27;d&quot;,\n",
       "                                             &#x27;themselves&#x27;, &#x27;ought&#x27;, &quot;shan&#x27;t&quot;,\n",
       "                                             &#x27;have&#x27;, &#x27;ourselves&#x27;, &#x27;through&#x27;,\n",
       "                                             &#x27;both&#x27;, &#x27;during&#x27;, &quot;that&#x27;s&quot;, &#x27;you&#x27;,\n",
       "                                             &quot;he&#x27;ll&quot;, &#x27;because&#x27;, &#x27;from&#x27;, &#x27;an&#x27;,\n",
       "                                             &#x27;not&#x27;, &quot;couldn&#x27;t&quot;, ...])),\n",
       "                (&#x27;rfc&#x27;, RandomForestClassifier(n_jobs=-1))])</pre><b>In a Jupyter environment, please rerun this cell to show the HTML representation or trust the notebook. <br />On GitHub, the HTML representation is unable to render, please try loading this page with nbviewer.org.</b></div><div class=\"sk-container\" hidden><div class=\"sk-item sk-dashed-wrapped\"><div class=\"sk-label-container\"><div class=\"sk-label sk-toggleable\"><input class=\"sk-toggleable__control sk-hidden--visually\" id=\"sk-estimator-id-1\" type=\"checkbox\" ><label for=\"sk-estimator-id-1\" class=\"sk-toggleable__label sk-toggleable__label-arrow\">Pipeline</label><div class=\"sk-toggleable__content\"><pre>Pipeline(steps=[(&#x27;tfid&#x27;,\n",
       "                 TfidfVectorizer(stop_words=[&#x27;about&#x27;, &#x27;further&#x27;, &#x27;where&#x27;,\n",
       "                                             &quot;we&#x27;ll&quot;, &#x27;while&#x27;, &#x27;too&#x27;, &#x27;nor&#x27;,\n",
       "                                             &quot;mustn&#x27;t&quot;, &#x27;their&#x27;, &#x27;do&#x27;,\n",
       "                                             &quot;they&#x27;ve&quot;, &#x27;after&#x27;, &quot;won&#x27;t&quot;, &quot;i&#x27;d&quot;,\n",
       "                                             &#x27;themselves&#x27;, &#x27;ought&#x27;, &quot;shan&#x27;t&quot;,\n",
       "                                             &#x27;have&#x27;, &#x27;ourselves&#x27;, &#x27;through&#x27;,\n",
       "                                             &#x27;both&#x27;, &#x27;during&#x27;, &quot;that&#x27;s&quot;, &#x27;you&#x27;,\n",
       "                                             &quot;he&#x27;ll&quot;, &#x27;because&#x27;, &#x27;from&#x27;, &#x27;an&#x27;,\n",
       "                                             &#x27;not&#x27;, &quot;couldn&#x27;t&quot;, ...])),\n",
       "                (&#x27;rfc&#x27;, RandomForestClassifier(n_jobs=-1))])</pre></div></div></div><div class=\"sk-serial\"><div class=\"sk-item\"><div class=\"sk-estimator sk-toggleable\"><input class=\"sk-toggleable__control sk-hidden--visually\" id=\"sk-estimator-id-2\" type=\"checkbox\" ><label for=\"sk-estimator-id-2\" class=\"sk-toggleable__label sk-toggleable__label-arrow\">TfidfVectorizer</label><div class=\"sk-toggleable__content\"><pre>TfidfVectorizer(stop_words=[&#x27;about&#x27;, &#x27;further&#x27;, &#x27;where&#x27;, &quot;we&#x27;ll&quot;, &#x27;while&#x27;,\n",
       "                            &#x27;too&#x27;, &#x27;nor&#x27;, &quot;mustn&#x27;t&quot;, &#x27;their&#x27;, &#x27;do&#x27;, &quot;they&#x27;ve&quot;,\n",
       "                            &#x27;after&#x27;, &quot;won&#x27;t&quot;, &quot;i&#x27;d&quot;, &#x27;themselves&#x27;, &#x27;ought&#x27;,\n",
       "                            &quot;shan&#x27;t&quot;, &#x27;have&#x27;, &#x27;ourselves&#x27;, &#x27;through&#x27;, &#x27;both&#x27;,\n",
       "                            &#x27;during&#x27;, &quot;that&#x27;s&quot;, &#x27;you&#x27;, &quot;he&#x27;ll&quot;, &#x27;because&#x27;,\n",
       "                            &#x27;from&#x27;, &#x27;an&#x27;, &#x27;not&#x27;, &quot;couldn&#x27;t&quot;, ...])</pre></div></div></div><div class=\"sk-item\"><div class=\"sk-estimator sk-toggleable\"><input class=\"sk-toggleable__control sk-hidden--visually\" id=\"sk-estimator-id-3\" type=\"checkbox\" ><label for=\"sk-estimator-id-3\" class=\"sk-toggleable__label sk-toggleable__label-arrow\">RandomForestClassifier</label><div class=\"sk-toggleable__content\"><pre>RandomForestClassifier(n_jobs=-1)</pre></div></div></div></div></div></div></div>"
      ],
      "text/plain": [
       "Pipeline(steps=[('tfid',\n",
       "                 TfidfVectorizer(stop_words=['about', 'further', 'where',\n",
       "                                             \"we'll\", 'while', 'too', 'nor',\n",
       "                                             \"mustn't\", 'their', 'do',\n",
       "                                             \"they've\", 'after', \"won't\", \"i'd\",\n",
       "                                             'themselves', 'ought', \"shan't\",\n",
       "                                             'have', 'ourselves', 'through',\n",
       "                                             'both', 'during', \"that's\", 'you',\n",
       "                                             \"he'll\", 'because', 'from', 'an',\n",
       "                                             'not', \"couldn't\", ...])),\n",
       "                ('rfc', RandomForestClassifier(n_jobs=-1))])"
      ]
     },
     "execution_count": 9,
     "metadata": {},
     "output_type": "execute_result"
    }
   ],
   "source": [
    "#MODEL BUILDING\n",
    "\n",
    "from sklearn.feature_extraction.text import TfidfVectorizer\n",
    "from sklearn.ensemble import RandomForestClassifier\n",
    "from sklearn.pipeline import Pipeline\n",
    "\n",
    "clf = Pipeline( [ ('tfid' , TfidfVectorizer(stop_words=stopwords_list)) , ('rfc' , RandomForestClassifier(n_jobs=-1))])\n",
    "\n",
    "clf.fit(X_train , Y_train)"
   ]
  },
  {
   "cell_type": "code",
   "execution_count": null,
   "id": "69a7090c",
   "metadata": {},
   "outputs": [],
   "source": [
    "#EVALUATION\n",
    "\n",
    "from sklearn.metrics import classification_report\n",
    "y_pred = clf.predict(X_test)\n",
    "print(classification_report(Y_test , y_pred))"
   ]
  }
 ],
 "metadata": {
  "kernelspec": {
   "display_name": "Python 3 (ipykernel)",
   "language": "python",
   "name": "python3"
  },
  "language_info": {
   "codemirror_mode": {
    "name": "ipython",
    "version": 3
   },
   "file_extension": ".py",
   "mimetype": "text/x-python",
   "name": "python",
   "nbconvert_exporter": "python",
   "pygments_lexer": "ipython3",
   "version": "3.10.9"
  }
 },
 "nbformat": 4,
 "nbformat_minor": 5
}
